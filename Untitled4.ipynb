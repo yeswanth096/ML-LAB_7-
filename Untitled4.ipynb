{
 "cells": [
  {
   "cell_type": "code",
   "execution_count": 2,
   "id": "dca23ce2",
   "metadata": {},
   "outputs": [
    {
     "name": "stdout",
     "output_type": "stream",
     "text": [
      "Support Vectors =[[  15.09166908 1228.908     ]\n",
      " [  14.50143939  980.514     ]\n",
      " [  13.63413608 1030.288     ]\n",
      " ...\n",
      " [  20.10966526 1502.108     ]\n",
      " [  20.43624599 1508.716     ]\n",
      " [  20.52563358 1519.498     ]]\n"
     ]
    }
   ],
   "source": [
    "import pandas as pd\n",
    "from sklearn.model_selection import train_test_split\n",
    "from sklearn.svm import SVC\n",
    "\n",
    "# Load the dataset\n",
    "data = pd.read_csv('dataset.csv')\n",
    "\n",
    "\n",
    "features = data[['BMI', 'BMR']]\n",
    "target = data['Label']\n",
    "\n",
    "# Split the data into training and testing sets\n",
    "X_train, X_test, y_train, y_test = train_test_split(features, target, test_size=0.2, random_state=42)\n",
    "\n",
    "# Initialize and train the Support Vector Machine (SVM) model\n",
    "clf = SVC()\n",
    "clf.fit(X_train, y_train)\n",
    "\n",
    "# Get the support vectors\n",
    "support_vectors = clf.support_vectors_\n",
    "\n",
    "# Print the support vectors\n",
    "print(f'Support Vectors ={support_vectors}')"
   ]
  },
  {
   "cell_type": "code",
   "execution_count": 4,
   "id": "0a204888",
   "metadata": {},
   "outputs": [
    {
     "name": "stdout",
     "output_type": "stream",
     "text": [
      "Support Vectors =[[  15.09166908 1228.908     ]\n",
      " [  14.50143939  980.514     ]\n",
      " [  13.63413608 1030.288     ]\n",
      " ...\n",
      " [  20.10966526 1502.108     ]\n",
      " [  20.43624599 1508.716     ]\n",
      " [  20.52563358 1519.498     ]]\n",
      "Accuracy of the SVM on the test set: 0.18122977346278318\n",
      "Predicted class : [1]\n"
     ]
    },
    {
     "name": "stderr",
     "output_type": "stream",
     "text": [
      "C:\\ProgramData\\Anaconda3\\lib\\site-packages\\sklearn\\base.py:450: UserWarning: X does not have valid feature names, but SVC was fitted with feature names\n",
      "  warnings.warn(\n"
     ]
    }
   ],
   "source": [
    "import pandas as pd\n",
    "from sklearn.model_selection import train_test_split\n",
    "from sklearn.svm import SVC\n",
    "\n",
    "# Load the dataset\n",
    "data = pd.read_csv('dataset.csv')\n",
    "\n",
    "\n",
    "features = data[['BMI', 'BMR']]\n",
    "target = data['Label']\n",
    "\n",
    "# Split the data into training and testing sets\n",
    "X_train, X_test, y_train, y_test = train_test_split(features, target, test_size=0.2, random_state=42)\n",
    "\n",
    "# Initialize and train the Support Vector Machine (SVM) model\n",
    "clf = SVC()\n",
    "clf.fit(X_train, y_train)\n",
    "\n",
    "# Get the support vectors\n",
    "support_vectors = clf.support_vectors_\n",
    "\n",
    "# Print the support vectors\n",
    "print(f'Support Vectors ={support_vectors}')\n",
    "\n",
    "# Testing the accuracy of the SVM on the test set\n",
    "accuracy = clf.score(X_test[['BMI', 'BMR']], y_test)\n",
    "print(f\"Accuracy of the SVM on the test set: {accuracy}\")\n",
    " \n",
    "# Perform classification for the given test vector\n",
    "test_vector = X_test[['BMI', 'BMR']].iloc[0]\n",
    "predicted_class = clf.predict([test_vector])\n",
    "print(f\"Predicted class : {predicted_class}\")\n",
    " "
   ]
  },
  {
   "cell_type": "code",
   "execution_count": 5,
   "id": "3c2d18c5",
   "metadata": {},
   "outputs": [
    {
     "name": "stdout",
     "output_type": "stream",
     "text": [
      "Support Vectors =[[  15.09166908 1228.908     ]\n",
      " [  14.50143939  980.514     ]\n",
      " [  13.63413608 1030.288     ]\n",
      " ...\n",
      " [  20.10966526 1502.108     ]\n",
      " [  20.43624599 1508.716     ]\n",
      " [  20.52563358 1519.498     ]]\n",
      "Accuracy of the SVM on the test set: 0.18122977346278318\n",
      "Accuracy of prediction made: 0.20\n"
     ]
    }
   ],
   "source": [
    "import pandas as pd\n",
    "import numpy as np\n",
    "from sklearn.model_selection import train_test_split\n",
    "from sklearn.svm import SVC\n",
    "\n",
    "# Load the dataset\n",
    "data = pd.read_csv('dataset.csv')\n",
    "\n",
    "\n",
    "features = data[['BMI', 'BMR']]\n",
    "target = data['Label']\n",
    "\n",
    "# Split the data into training and testing sets\n",
    "X_train, X_test, y_train, y_test = train_test_split(features, target, test_size=0.2, random_state=42)\n",
    "\n",
    "# Initialize and train the Support Vector Machine (SVM) model\n",
    "clf = SVC()\n",
    "clf.fit(X_train, y_train)\n",
    "\n",
    "# Get the support vectors\n",
    "support_vectors = clf.support_vectors_\n",
    "\n",
    "# Print the support vectors\n",
    "print(f'Support Vectors ={support_vectors}')\n",
    "\n",
    "# Testing the accuracy of the SVM on the test set\n",
    "accuracy = clf.score(X_test[['BMI', 'BMR']], y_test)\n",
    "print(f\"Accuracy of the SVM on the test set: {accuracy}\")\n",
    " \n",
    "# Use the predict() function to get predicted class values for the test set\n",
    "predicted_class = clf.predict(X_train)\n",
    " \n",
    "# Calculate accuracy by comparing predicted_classes to the actual y_test labels\n",
    "correct_predictions = (predicted_class == y_train)\n",
    "accuracy = np.mean(correct_predictions)\n",
    "\n",
    "# Print the accuracy\n",
    "print(f\"Accuracy of prediction made: {accuracy:.2f}\")"
   ]
  },
  {
   "cell_type": "code",
   "execution_count": null,
   "id": "9abab442",
   "metadata": {},
   "outputs": [],
   "source": [
    "import pandas as pd\n",
    "from sklearn.model_selection import train_test_split\n",
    "from sklearn.svm import SVC\n",
    "\n",
    "# Load the dataset\n",
    "data = pd.read_csv('dataset.csv')\n",
    "\n",
    "features = data[['BMI', 'BMR']]\n",
    "target = data['Label']\n",
    "\n",
    "# Split the data into training and testing sets\n",
    "X_train, X_test, y_train, y_test = train_test_split(features, target, test_size=0.2, random_state=42)\n",
    "\n",
    "# Train and test SVM with 'linear' kernel\n",
    "clf_linear = SVC(kernel='linear')\n",
    "clf_linear.fit(X_train, y_train)\n",
    "accuracy_linear = clf_linear.score(X_test, y_test)\n",
    "print(f'Accuracy with linear kernel: {accuracy_linear}')\n",
    "\n",
    "# Train and test SVM with 'poly' kernel\n",
    "clf_poly = SVC(kernel='poly')\n",
    "clf_poly.fit(X_train, y_train)\n",
    "accuracy_poly = clf_poly.score(X_test, y_test)\n",
    "print(f'Accuracy with poly kernel: {accuracy_poly}')\n",
    "\n",
    "# Train and test SVM with 'rbf' kernel\n",
    "clf_rbf = SVC(kernel='rbf')\n",
    "clf_rbf.fit(X_train, y_train)\n",
    "accuracy_rbf = clf_rbf.score(X_test, y_test)\n",
    "print(f'Accuracy with rbf kernel: {accuracy_rbf}')\n",
    "\n",
    "# Train and test SVM with 'sigmoid' kernel\n",
    "clf_sigmoid = SVC(kernel='sigmoid')\n",
    "clf_sigmoid.fit(X_train, y_train)\n",
    "accuracy_sigmoid = clf_sigmoid.score(X_test, y_test)\n",
    "print(f'Accuracy with sigmoid kernel: {accuracy_sigmoid}')"
   ]
  },
  {
   "cell_type": "code",
   "execution_count": null,
   "id": "ccf6fee8",
   "metadata": {},
   "outputs": [],
   "source": []
  }
 ],
 "metadata": {
  "kernelspec": {
   "display_name": "Python 3 (ipykernel)",
   "language": "python",
   "name": "python3"
  },
  "language_info": {
   "codemirror_mode": {
    "name": "ipython",
    "version": 3
   },
   "file_extension": ".py",
   "mimetype": "text/x-python",
   "name": "python",
   "nbconvert_exporter": "python",
   "pygments_lexer": "ipython3",
   "version": "3.9.13"
  }
 },
 "nbformat": 4,
 "nbformat_minor": 5
}
